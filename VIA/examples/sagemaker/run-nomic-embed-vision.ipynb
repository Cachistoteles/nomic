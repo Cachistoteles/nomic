{
 "cells": [
  {
   "cell_type": "markdown",
   "id": "b4443d16-46ff-47a6-8da9-df8ebba4d657",
   "metadata": {},
   "source": [
    "# Local Embedding with nomic-embed-text-v1.5\n",
    "This notebook demonstrates how to embed your documents using nomic-embed-text-v1.5 locally."
   ]
  },
  {
   "cell_type": "code",
   "execution_count": null,
   "id": "3037446e",
   "metadata": {},
   "outputs": [],
   "source": []
  },
  {
   "cell_type": "code",
   "execution_count": null,
   "id": "ea21748e",
   "metadata": {},
   "outputs": [
    {
     "ename": "NameError",
     "evalue": "name 'ARREGLAR' is not defined",
     "output_type": "error",
     "traceback": [
      "\u001b[31m---------------------------------------------------------------------------\u001b[39m",
      "\u001b[31mNameError\u001b[39m                                 Traceback (most recent call last)",
      "\u001b[36mCell\u001b[39m\u001b[36m \u001b[39m\u001b[32mIn[3]\u001b[39m\u001b[32m, line 1\u001b[39m\n\u001b[32m----> \u001b[39m\u001b[32m1\u001b[39m \u001b[43mARREGLAR\u001b[49m\n",
      "\u001b[31mNameError\u001b[39m: name 'ARREGLAR' is not defined"
     ]
    }
   ],
   "source": []
  },
  {
   "cell_type": "code",
   "execution_count": null,
   "id": "6c5e13f4",
   "metadata": {
    "scrolled": true
   },
   "outputs": [],
   "source": [
    "!pip install nomic'[aws]'\n",
    "!pip install numpy"
   ]
  },
  {
   "cell_type": "code",
   "execution_count": null,
   "id": "cc3b38b6-34ef-48bd-923d-938b88471873",
   "metadata": {},
   "outputs": [],
   "source": [
    "import numpy as np\n",
    "\n",
    "def embed_image(image):\n",
    "    # Implementación local para la función embed_image\n",
    "    pass"
   ]
  },
  {
   "cell_type": "markdown",
   "id": "0f1a6a00-6d9a-447f-805f-f4758347dbd4",
   "metadata": {},
   "source": [
    "## Real Time Inference\n",
    "Run `embed_image` for real time inference.\n",
    "The method will return a nested list of floats. "
   ]
  },
  {
   "cell_type": "code",
   "execution_count": null,
   "id": "9bd45a53-de0a-4a63-af40-731c218b4ea4",
   "metadata": {},
   "outputs": [],
   "source": [
    "from pathlib import Path\n",
    "\n",
    "images = list(Path(\"/home/ec2-user/nomic/docs/assets/\").glob(\"*.png\"))\n",
    "images"
   ]
  },
  {
   "cell_type": "code",
   "execution_count": null,
   "id": "a668e03f-9a50-4b3d-9a02-a059136af6b9",
   "metadata": {},
   "outputs": [],
   "source": [
    "response = embed_image(images, endpoint_name, region_name=region_name)\n",
    "embeddings = response[\"embeddings\"]\n",
    "np.array(embeddings).shape"
   ]
  }
 ],
 "metadata": {
  "kernelspec": {
   "display_name": ".venv (3.13.3)",
   "language": "python",
   "name": "python3"
  },
  "language_info": {
   "codemirror_mode": {
    "name": "ipython",
    "version": 3
   },
   "file_extension": ".py",
   "mimetype": "text/x-python",
   "name": "python",
   "nbconvert_exporter": "python",
   "pygments_lexer": "ipython3",
   "version": "3.13.3"
  }
 },
 "nbformat": 4,
 "nbformat_minor": 5
}
