{
 "cells": [
  {
   "cell_type": "markdown",
   "id": "b4443d16-46ff-47a6-8da9-df8ebba4d657",
   "metadata": {},
   "source": [
    "# AWS SageMaker and nomic-embed-text-v1.5\n",
    "This notebook demos how to embed your documents using nomic-embed-text-v1.5 running on AWS SageMaker."
   ]
  },
  {
   "cell_type": "code",
   "execution_count": null,
   "id": "6c5e13f4",
   "metadata": {
    "scrolled": true
   },
   "outputs": [],
   "source": [
    "!pip install nomic'[aws]'\n",
    "!pip install numpy"
   ]
  },
  {
   "cell_type": "code",
   "execution_count": null,
   "id": "cc3b38b6-34ef-48bd-923d-938b88471873",
   "metadata": {},
   "outputs": [],
   "source": [
    "import numpy as np\n",
    "\n",
    "from nomic.aws.sagemaker import embed_image"
   ]
  },
  {
   "cell_type": "markdown",
   "id": "98fd2183-c7e7-435b-b584-3509161a3357",
   "metadata": {},
   "source": [
    "## SageMaker Configuration\n",
    "Specify the Sagemaker endpoint you created here and the region the endpoint is hosted in."
   ]
  },
  {
   "cell_type": "code",
   "execution_count": null,
   "id": "cf4e8007-3fa2-473b-8748-7aa4de26cb2f",
   "metadata": {},
   "outputs": [],
   "source": [
    "endpoint_name = 'endpoint_name'\n",
    "region_name = 'us-east-2'"
   ]
  },
  {
   "cell_type": "markdown",
   "id": "0f1a6a00-6d9a-447f-805f-f4758347dbd4",
   "metadata": {},
   "source": [
    "## Real Time Inference\n",
    "Run `embed_image` for real time inference.\n",
    "The method will return a nested list of floats. "
   ]
  },
  {
   "cell_type": "code",
   "execution_count": null,
   "id": "9bd45a53-de0a-4a63-af40-731c218b4ea4",
   "metadata": {},
   "outputs": [],
   "source": [
    "from pathlib import Path\n",
    "\n",
    "images = list(Path(\"/home/ec2-user/nomic/docs/assets/\").glob(\"*.png\"))\n",
    "images"
   ]
  },
  {
   "cell_type": "code",
   "execution_count": null,
   "id": "a668e03f-9a50-4b3d-9a02-a059136af6b9",
   "metadata": {},
   "outputs": [],
   "source": [
    "response = embed_image(images, endpoint_name, region_name=region_name)\n",
    "embeddings = response[\"embeddings\"]\n",
    "np.array(embeddings).shape"
   ]
  },
  {
   "cell_type": "markdown",
   "id": "b29175ef",
   "metadata": {},
   "source": [
    "## Batch Transform\n",
    "\n",
    "Nomic Embed on Sagemaker also supports [batch transform jobs](https://docs.aws.amazon.com/sagemaker/latest/dg/batch-transform.html) over S3 buckets.\n",
    "To run batch transform, make sure your bucket contains PNG or JPEGs.\n",
    "\n",
    "You can launch a batch transform job with the `nomic` package:"
   ]
  },
  {
   "cell_type": "code",
   "execution_count": null,
   "id": "24509f3a",
   "metadata": {},
   "outputs": [],
   "source": [
    "from nomic.aws.sagemaker import batch_transform_image as batch_transform\n",
    "\n",
    "batch_transform(\n",
    "    s3_input_path=\"s3://batch-transform/input.csv\",\n",
    "    s3_output_path=\"s3://batch-transform/\",\n",
    "    region_name=\"us-east-2\",\n",
    "    arn='<INSERT MODEL PACKAGE ARN>',\n",
    "    role='<INSERT SAGEMAKER EXECUTOR IAM ROLE ARN>',\n",
    "    max_payload=6,\n",
    "    n_instances=1\n",
    ")"
   ]
  }
 ],
 "metadata": {
  "kernelspec": {
   "display_name": "env",
   "language": "python",
   "name": "python3"
  },
  "language_info": {
   "codemirror_mode": {
    "name": "ipython",
    "version": 3
   },
   "file_extension": ".py",
   "mimetype": "text/x-python",
   "name": "python",
   "nbconvert_exporter": "python",
   "pygments_lexer": "ipython3",
   "version": "3.9.16"
  }
 },
 "nbformat": 4,
 "nbformat_minor": 5
}
