{
 "cells": [
  {
   "cell_type": "markdown",
   "id": "b4443d16-46ff-47a6-8da9-df8ebba4d657",
   "metadata": {},
   "source": [
    "# Local Embedding with nomic-embed-text-v1.5\n",
    "This notebook demonstrates how to embed your documents using nomic-embed-text-v1.5 locally."
   ]
  },
  {
   "cell_type": "code",
   "execution_count": 1,
   "id": "6c5e13f4",
   "metadata": {
    "scrolled": true
   },
   "outputs": [
    {
     "name": "stderr",
     "output_type": "stream",
     "text": [
      "\n",
      "[notice] A new release of pip is available: 25.0.1 -> 25.1.1\n",
      "[notice] To update, run: python.exe -m pip install --upgrade pip\n",
      "ERROR: Invalid requirement: \"nomic'[aws]'\": Expected end or semicolon (after name and no valid version specifier)\n",
      "    nomic'[aws]'\n",
      "         ^\n"
     ]
    },
    {
     "name": "stdout",
     "output_type": "stream",
     "text": [
      "Collecting numpy\n",
      "  Using cached numpy-2.2.5-cp313-cp313-win_amd64.whl.metadata (60 kB)\n",
      "Using cached numpy-2.2.5-cp313-cp313-win_amd64.whl (12.6 MB)\n",
      "Installing collected packages: numpy\n",
      "Successfully installed numpy-2.2.5\n"
     ]
    },
    {
     "name": "stderr",
     "output_type": "stream",
     "text": [
      "\n",
      "[notice] A new release of pip is available: 25.0.1 -> 25.1.1\n",
      "[notice] To update, run: python.exe -m pip install --upgrade pip\n"
     ]
    }
   ],
   "source": [
    "!pip install nomic'[aws]'\n",
    "!pip install numpy"
   ]
  },
  {
   "cell_type": "code",
   "execution_count": 2,
   "id": "cc3b38b6-34ef-48bd-923d-938b88471873",
   "metadata": {},
   "outputs": [],
   "source": [
    "import numpy as np\n",
    "\n",
    "def embed_text(text):\n",
    "    # Implementación local para embed_text\n",
    "    return np.array([ord(char) for char in text])"
   ]
  },
  {
   "cell_type": "markdown",
   "id": "0f1a6a00-6d9a-447f-805f-f4758347dbd4",
   "metadata": {},
   "source": [
    "## Real Time Inference\n",
    "Run `embed_text` for real time inference.\n",
    "The method will return a nested list of floats. "
   ]
  },
  {
   "cell_type": "code",
   "execution_count": 3,
   "id": "9bd45a53-de0a-4a63-af40-731c218b4ea4",
   "metadata": {},
   "outputs": [],
   "source": [
    "texts = [\n",
    "    \"This is a test\", \n",
    "    \"This is another test\",\n",
    "    \"This is a third test\",\n",
    "    \"The quick brown fox jumps over the lazy dog\",\n",
    "    \"The quick brown fox jumps over the lazy dog\",\n",
    "    \"The quick brown fox jumps over the lazy dog\",\n",
    "]"
   ]
  },
  {
   "cell_type": "code",
   "execution_count": 4,
   "id": "a668e03f-9a50-4b3d-9a02-a059136af6b9",
   "metadata": {},
   "outputs": [
    {
     "ename": "NameError",
     "evalue": "name 'endpoint_name' is not defined",
     "output_type": "error",
     "traceback": [
      "\u001b[31m---------------------------------------------------------------------------\u001b[39m",
      "\u001b[31mNameError\u001b[39m                                 Traceback (most recent call last)",
      "\u001b[36mCell\u001b[39m\u001b[36m \u001b[39m\u001b[32mIn[4]\u001b[39m\u001b[32m, line 1\u001b[39m\n\u001b[32m----> \u001b[39m\u001b[32m1\u001b[39m response = embed_text(texts, \u001b[43mendpoint_name\u001b[49m, region_name=region_name, batch_size=\u001b[32m32\u001b[39m)\n\u001b[32m      2\u001b[39m embeddings = response[\u001b[33m\"\u001b[39m\u001b[33membeddings\u001b[39m\u001b[33m\"\u001b[39m]\n\u001b[32m      3\u001b[39m np.array(embeddings).shape\n",
      "\u001b[31mNameError\u001b[39m: name 'endpoint_name' is not defined"
     ]
    }
   ],
   "source": [
    "response = embed_text(texts, endpoint_name, region_name=region_name, batch_size=32)\n",
    "embeddings = response[\"embeddings\"]\n",
    "np.array(embeddings).shape"
   ]
  },
  {
   "cell_type": "code",
   "execution_count": null,
   "id": "4375e4a5",
   "metadata": {},
   "outputs": [
    {
     "name": "stderr",
     "output_type": "stream",
     "text": [
      "100%|██████████████████████████████████████████████████████████████████████████████████████████████████████████████████████████████████████████| 1/1 [00:00<00:00,  7.64it/s]\n"
     ]
    },
    {
     "data": {
      "text/plain": [
       "(6, 128)"
      ]
     },
     "execution_count": 6,
     "metadata": {},
     "output_type": "execute_result"
    }
   ],
   "source": [
    "response = embed_text(texts, endpoint_name, region_name=region_name, batch_size=32, dimensionality=128, task_type=\"search_document\")\n",
    "embeddings = response[\"embeddings\"]\n",
    "np.array(embeddings).shape"
   ]
  },
  {
   "cell_type": "code",
   "execution_count": null,
   "id": "64072bef-4c92-425b-a6cd-c3c3ee82389a",
   "metadata": {},
   "outputs": [
    {
     "name": "stderr",
     "output_type": "stream",
     "text": [
      "100%|██████████████████████████████████████████████████████████████████████████████████████████████████████████████████████████████████████████| 1/1 [00:00<00:00,  7.29it/s]\n"
     ]
    },
    {
     "data": {
      "text/plain": [
       "array([[1, 1, 0, ..., 0, 0, 0],\n",
       "       [1, 1, 0, ..., 0, 0, 0],\n",
       "       [1, 1, 0, ..., 0, 0, 0],\n",
       "       [0, 1, 0, ..., 0, 0, 0],\n",
       "       [0, 1, 0, ..., 0, 0, 0],\n",
       "       [0, 1, 0, ..., 0, 0, 0]])"
      ]
     },
     "execution_count": 7,
     "metadata": {},
     "output_type": "execute_result"
    }
   ],
   "source": [
    "response = embed_text(texts, endpoint_name, region_name=region_name, batch_size=32, binary=True)\n",
    "embeddings = response[\"embeddings\"]\n",
    "np.array(embeddings)"
   ]
  },
  {
   "cell_type": "markdown",
   "id": "b29175ef",
   "metadata": {},
   "source": [
    "## Batch Transform\n",
    "\n",
    "Nomic Embed on Sagemaker also supports [batch transform jobs](https://docs.aws.amazon.com/sagemaker/latest/dg/batch-transform.html) over CSV files.\n",
    "To run batch transform, make sure your csv contains rows of single column text without headers.\n",
    "\n",
    "Optionally, in the first row, you can pass two columns: an integer value (valid options are 64, 128, 256, 512, 768) and a boolean. If the first row matches this format, these values will be treated as the dimensionality to return the embeddings in and whether to return binary embeddings or not. Otherwise, the first row will be treated as single column text as well (i.e. the first column will be cast to string and embedded).\n",
    "\n",
    "For example, a valid input csv can look like:\n",
    "\n",
    "```\n",
    "128, True\n",
    "Hello world\n",
    "Hello world\n",
    "Hello world\n",
    "```\n",
    "\n",
    "This will return three 128 dimension binary embeddings.\n",
    "\n",
    "You can launch a batch transform job with the `nomic` package:"
   ]
  },
  {
   "cell_type": "code",
   "execution_count": null,
   "id": "24509f3a",
   "metadata": {},
   "outputs": [],
   "source": [
    "from nomic.aws.sagemaker import batch_transform_text as batch_transform\n",
    "\n",
    "batch_transform(\n",
    "    s3_input_path=\"s3://batch-transform/input.csv\",\n",
    "    s3_output_path=\"s3://batch-transform/\",\n",
    "    region_name=\"us-east-2\",\n",
    "    arn='<INSERT MODEL PACKAGE ARN>',\n",
    "    role='<INSERT SAGEMAKER EXECUTOR IAM ROLE ARN>',\n",
    "    max_payload=6,\n",
    "    n_instances=1\n",
    ")"
   ]
  }
 ],
 "metadata": {
  "kernelspec": {
   "display_name": ".venv (3.13.3)",
   "language": "python",
   "name": "python3"
  },
  "language_info": {
   "codemirror_mode": {
    "name": "ipython",
    "version": 3
   },
   "file_extension": ".py",
   "mimetype": "text/x-python",
   "name": "python",
   "nbconvert_exporter": "python",
   "pygments_lexer": "ipython3",
   "version": "3.13.3"
  }
 },
 "nbformat": 4,
 "nbformat_minor": 5
}
