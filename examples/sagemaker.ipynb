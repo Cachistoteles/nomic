{
 "cells": [
  {
   "cell_type": "markdown",
   "id": "b4443d16-46ff-47a6-8da9-df8ebba4d657",
   "metadata": {},
   "source": [
    "# AWS SageMaker and nomic-embed-text-v1.5\n",
    "This notebook demos how to embed your documents using nomic-embed-text-v1.5 running on AWS SageMaker."
   ]
  },
  {
   "cell_type": "code",
   "execution_count": 1,
   "id": "cc3b38b6-34ef-48bd-923d-938b88471873",
   "metadata": {},
   "outputs": [
    {
     "name": "stdout",
     "output_type": "stream",
     "text": [
      "sagemaker.config INFO - Not applying SDK defaults from location: /etc/xdg/sagemaker/config.yaml\n",
      "sagemaker.config INFO - Not applying SDK defaults from location: /home/ec2-user/.config/sagemaker/config.yaml\n"
     ]
    }
   ],
   "source": [
    "import boto3\n",
    "import sagemaker\n",
    "\n",
    "from nomic.aws.sagemaker import batch_sagemaker_requests, \\\n",
    "                                create_sagemaker_request_for_batch, \\\n",
    "                                parse_sagemaker_response"
   ]
  },
  {
   "cell_type": "markdown",
   "id": "98fd2183-c7e7-435b-b584-3509161a3357",
   "metadata": {},
   "source": [
    "## SageMaker configuration"
   ]
  },
  {
   "cell_type": "code",
   "execution_count": 2,
   "id": "1686071b-eb75-40a2-8d3c-d3d286a7768d",
   "metadata": {},
   "outputs": [],
   "source": [
    "# Must specify region\n",
    "sess = boto3.Session(region_name=\"us-east-2\")\n",
    "sm = sess.client(\"sagemaker\")\n",
    "sagemaker_session = sagemaker.Session(boto_session=sess)\n",
    "client = boto3.client(\"sagemaker-runtime\", region_name=\"us-east-2\")"
   ]
  },
  {
   "cell_type": "code",
   "execution_count": 3,
   "id": "cf4e8007-3fa2-473b-8748-7aa4de26cb2f",
   "metadata": {},
   "outputs": [],
   "source": [
    "endpoint_name = 'triton-nomic-embed-text-v1-5-test-2024-03-18-18-50-54'"
   ]
  },
  {
   "cell_type": "markdown",
   "id": "0f1a6a00-6d9a-447f-805f-f4758347dbd4",
   "metadata": {},
   "source": [
    "## Embed documents"
   ]
  },
  {
   "cell_type": "code",
   "execution_count": 4,
   "id": "9bd45a53-de0a-4a63-af40-731c218b4ea4",
   "metadata": {},
   "outputs": [],
   "source": [
    "texts = [\n",
    "    \"This is a test\", \n",
    "    \"This is another test\",\n",
    "    \"This is a third test\",\n",
    "    \"The quick brown fox jumps over the lazy dog\",\n",
    "    \"The quick brown fox jumps over the lazy dog\",\n",
    "    \"The quick brown fox jumps over the lazy dog\",\n",
    "]"
   ]
  },
  {
   "cell_type": "code",
   "execution_count": 5,
   "id": "0f0958a9-4878-430a-9ea3-3b4187db9556",
   "metadata": {},
   "outputs": [],
   "source": [
    "embeddings = []\n",
    "for embed_request, header_length in batch_sagemaker_requests(texts, batch_size=2):\n",
    "    response = client.invoke_endpoint(\n",
    "        EndpointName=endpoint_name,\n",
    "        Body=embed_request,\n",
    "        ContentType=\"application/vnd.sagemaker-triton.binary+json;json-header-size={}\".format(header_length),\n",
    "    )\n",
    "    embeddings.append(parse_sagemaker_response(response))"
   ]
  },
  {
   "cell_type": "code",
   "execution_count": 6,
   "id": "fa51c711-7f96-4b95-8296-ed36b3abca2b",
   "metadata": {},
   "outputs": [
    {
     "data": {
      "text/plain": [
       "[array([[ 0.0335  ,  0.015335, -0.01962 , ...,  0.003212, -0.000763,\n",
       "         -0.01043 ],\n",
       "        [ 0.03824 ,  0.02356 , -0.013275, ..., -0.00659 , -0.03375 ,\n",
       "         -0.01296 ]], dtype=float16),\n",
       " array([[ 0.0382   ,  0.0273   , -0.00674  , ..., -0.03873  ,  0.0001578,\n",
       "         -0.006977 ],\n",
       "        [-0.02098  ,  0.00974  ,  0.00788  , ...,  0.002537 , -0.05994  ,\n",
       "          0.01656  ]], dtype=float16),\n",
       " array([[-0.02098 ,  0.00974 ,  0.00788 , ...,  0.002537, -0.05994 ,\n",
       "          0.01656 ],\n",
       "        [-0.02098 ,  0.00974 ,  0.00788 , ...,  0.002537, -0.05994 ,\n",
       "          0.01656 ]], dtype=float16)]"
      ]
     },
     "execution_count": 6,
     "metadata": {},
     "output_type": "execute_result"
    }
   ],
   "source": [
    "embeddings"
   ]
  },
  {
   "cell_type": "code",
   "execution_count": null,
   "id": "3b704bd6-5951-40c3-ba26-dfdedb4a7ff1",
   "metadata": {},
   "outputs": [],
   "source": []
  }
 ],
 "metadata": {
  "kernelspec": {
   "display_name": "atlas_env",
   "language": "python",
   "name": "atlas_env"
  },
  "language_info": {
   "codemirror_mode": {
    "name": "ipython",
    "version": 3
   },
   "file_extension": ".py",
   "mimetype": "text/x-python",
   "name": "python",
   "nbconvert_exporter": "python",
   "pygments_lexer": "ipython3",
   "version": "3.9.16"
  }
 },
 "nbformat": 4,
 "nbformat_minor": 5
}
