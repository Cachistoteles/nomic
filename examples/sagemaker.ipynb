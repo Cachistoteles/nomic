{
 "cells": [
  {
   "cell_type": "markdown",
   "id": "b4443d16-46ff-47a6-8da9-df8ebba4d657",
   "metadata": {},
   "source": [
    "# AWS SageMaker and nomic-embed-text-v1.5\n",
    "This notebook demos how to embed your documents using nomic-embed-text-v1.5 running on AWS SageMaker."
   ]
  },
  {
   "cell_type": "code",
   "execution_count": null,
   "id": "6c5e13f4",
   "metadata": {},
   "outputs": [],
   "source": [
    "!pip install nomic"
   ]
  },
  {
   "cell_type": "code",
   "execution_count": 2,
   "id": "cc3b38b6-34ef-48bd-923d-938b88471873",
   "metadata": {},
   "outputs": [],
   "source": [
    "from nomic.aws.sagemaker import embed_text"
   ]
  },
  {
   "cell_type": "markdown",
   "id": "98fd2183-c7e7-435b-b584-3509161a3357",
   "metadata": {},
   "source": [
    "## SageMaker Configuration\n",
    "Specify the Sagemaker endpoint you created here and the region the endpoint is hosted in."
   ]
  },
  {
   "cell_type": "code",
   "execution_count": 9,
   "id": "cf4e8007-3fa2-473b-8748-7aa4de26cb2f",
   "metadata": {},
   "outputs": [],
   "source": [
    "endpoint_name = 'nomic-embed-text-v-1-5-endpoint'\n",
    "region_name = 'us-east-2'"
   ]
  },
  {
   "cell_type": "markdown",
   "id": "0f1a6a00-6d9a-447f-805f-f4758347dbd4",
   "metadata": {},
   "source": [
    "## Real Time Inference\n",
    "Run `embed_text` for real time inference.\n",
    "The method will return a `np.float16 array`."
   ]
  },
  {
   "cell_type": "code",
   "execution_count": 4,
   "id": "9bd45a53-de0a-4a63-af40-731c218b4ea4",
   "metadata": {},
   "outputs": [],
   "source": [
    "texts = [\n",
    "    \"This is a test\", \n",
    "    \"This is another test\",\n",
    "    \"This is a third test\",\n",
    "    \"The quick brown fox jumps over the lazy dog\",\n",
    "    \"The quick brown fox jumps over the lazy dog\",\n",
    "    \"The quick brown fox jumps over the lazy dog\",\n",
    "]"
   ]
  },
  {
   "cell_type": "code",
   "execution_count": 10,
   "id": "a668e03f-9a50-4b3d-9a02-a059136af6b9",
   "metadata": {},
   "outputs": [],
   "source": [
    "embeddings = embed_text(texts, endpoint_name, region_name=region_name, batch_size=32)"
   ]
  },
  {
   "cell_type": "code",
   "execution_count": 11,
   "id": "3b704bd6-5951-40c3-ba26-dfdedb4a7ff1",
   "metadata": {},
   "outputs": [
    {
     "data": {
      "text/plain": [
       "(6, 768)"
      ]
     },
     "execution_count": 11,
     "metadata": {},
     "output_type": "execute_result"
    }
   ],
   "source": [
    "embeddings.shape"
   ]
  },
  {
   "cell_type": "code",
   "execution_count": null,
   "id": "d0a81001-a832-4b27-b9ec-65ec68b133e8",
   "metadata": {},
   "outputs": [],
   "source": []
  }
 ],
 "metadata": {
  "kernelspec": {
   "display_name": "atlas_env",
   "language": "python",
   "name": "atlas_env"
  },
  "language_info": {
   "codemirror_mode": {
    "name": "ipython",
    "version": 3
   },
   "file_extension": ".py",
   "mimetype": "text/x-python",
   "name": "python",
   "nbconvert_exporter": "python",
   "pygments_lexer": "ipython3",
   "version": "3.11.4"
  }
 },
 "nbformat": 4,
 "nbformat_minor": 5
}
