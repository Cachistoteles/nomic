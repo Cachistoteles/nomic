{
 "cells": [
  {
   "cell_type": "markdown",
   "id": "b4443d16-46ff-47a6-8da9-df8ebba4d657",
   "metadata": {},
   "source": [
    "# AWS SageMaker and nomic-embed-text-v1.5\n",
    "This notebook demos how to embed your documents using nomic-embed-text-v1.5 running on AWS SageMaker."
   ]
  },
  {
   "cell_type": "code",
   "execution_count": null,
   "id": "6c5e13f4",
   "metadata": {},
   "outputs": [],
   "source": [
    "!pip install nomic"
   ]
  },
  {
   "cell_type": "code",
   "execution_count": 1,
   "id": "cc3b38b6-34ef-48bd-923d-938b88471873",
   "metadata": {},
   "outputs": [],
   "source": [
    "from nomic.aws.sagemaker import embed_texts"
   ]
  },
  {
   "cell_type": "markdown",
   "id": "98fd2183-c7e7-435b-b584-3509161a3357",
   "metadata": {},
   "source": [
    "## SageMaker Configuration\n",
    "Specify the Sagemaker endpoint you created here and the region the endpoint is hosted in."
   ]
  },
  {
   "cell_type": "code",
   "execution_count": 2,
   "id": "cf4e8007-3fa2-473b-8748-7aa4de26cb2f",
   "metadata": {},
   "outputs": [],
   "source": [
    "endpoint_name = 'triton-nomic-embed-text-v1-5-test-2024-03-22-17-44-47'\n",
    "region_name = 'us-east-2'"
   ]
  },
  {
   "cell_type": "markdown",
   "id": "0f1a6a00-6d9a-447f-805f-f4758347dbd4",
   "metadata": {},
   "source": [
    "## Real Time Inference\n",
    "Run `embed_text` for real time inference.\n",
    "The method will return a `np.float16 array`."
   ]
  },
  {
   "cell_type": "code",
   "execution_count": 3,
   "id": "9bd45a53-de0a-4a63-af40-731c218b4ea4",
   "metadata": {},
   "outputs": [],
   "source": [
    "texts = [\n",
    "    \"This is a test\", \n",
    "    \"This is another test\",\n",
    "    \"This is a third test\",\n",
    "    \"The quick brown fox jumps over the lazy dog\",\n",
    "    \"The quick brown fox jumps over the lazy dog\",\n",
    "    \"The quick brown fox jumps over the lazy dog\",\n",
    "]"
   ]
  },
  {
   "cell_type": "code",
   "execution_count": 4,
   "id": "a668e03f-9a50-4b3d-9a02-a059136af6b9",
   "metadata": {},
   "outputs": [],
   "source": [
    "embeddings = embed_texts(texts, endpoint_name, region_name=region_name, batch_size=32)"
   ]
  },
  {
   "cell_type": "code",
   "execution_count": 5,
   "id": "3b704bd6-5951-40c3-ba26-dfdedb4a7ff1",
   "metadata": {},
   "outputs": [
    {
     "data": {
      "text/plain": [
       "(6, 768)"
      ]
     },
     "execution_count": 5,
     "metadata": {},
     "output_type": "execute_result"
    }
   ],
   "source": [
    "embeddings.shape"
   ]
  },
  {
   "cell_type": "code",
   "execution_count": 6,
   "id": "d0a81001-a832-4b27-b9ec-65ec68b133e8",
   "metadata": {},
   "outputs": [
    {
     "data": {
      "text/plain": [
       "array([[ 0.04666 ,  0.02484 , -0.1688  , ..., -0.04614 , -0.01462 ,\n",
       "        -0.01997 ],\n",
       "       [ 0.04868 ,  0.0272  , -0.1686  , ..., -0.04138 , -0.03778 ,\n",
       "        -0.02217 ],\n",
       "       [ 0.05188 ,  0.01855 , -0.1583  , ..., -0.0631  , -0.005123,\n",
       "        -0.01807 ],\n",
       "       [-0.01142 ,  0.02853 , -0.1456  , ..., -0.03638 , -0.0711  ,\n",
       "         0.005814],\n",
       "       [-0.01142 ,  0.02853 , -0.1456  , ..., -0.03638 , -0.0711  ,\n",
       "         0.005814],\n",
       "       [-0.01142 ,  0.02853 , -0.1456  , ..., -0.03638 , -0.0711  ,\n",
       "         0.005814]], dtype=float16)"
      ]
     },
     "execution_count": 6,
     "metadata": {},
     "output_type": "execute_result"
    }
   ],
   "source": [
    "embeddings"
   ]
  },
  {
   "cell_type": "code",
   "execution_count": null,
   "id": "837b4bcb-19f3-4c0d-b1bc-96deb692355c",
   "metadata": {},
   "outputs": [],
   "source": []
  }
 ],
 "metadata": {
  "kernelspec": {
   "display_name": "atlas_env",
   "language": "python",
   "name": "atlas_env"
  },
  "language_info": {
   "codemirror_mode": {
    "name": "ipython",
    "version": 3
   },
   "file_extension": ".py",
   "mimetype": "text/x-python",
   "name": "python",
   "nbconvert_exporter": "python",
   "pygments_lexer": "ipython3",
   "version": "3.9.16"
  }
 },
 "nbformat": 4,
 "nbformat_minor": 5
}
