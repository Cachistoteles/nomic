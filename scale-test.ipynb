{
 "cells": [
  {
   "cell_type": "code",
   "execution_count": 1,
   "id": "f61176e7-7baf-4c13-8293-f2e57963c531",
   "metadata": {},
   "outputs": [
    {
     "name": "stdout",
     "output_type": "stream",
     "text": [
      "sagemaker.config INFO - Not applying SDK defaults from location: /etc/xdg/sagemaker/config.yaml\n",
      "sagemaker.config INFO - Not applying SDK defaults from location: /home/ec2-user/.config/sagemaker/config.yaml\n"
     ]
    }
   ],
   "source": [
    "import sagemaker\n",
    "import boto3\n",
    "from tqdm import tqdm\n",
    "import numpy as np"
   ]
  },
  {
   "cell_type": "code",
   "execution_count": 2,
   "id": "5e0b2cf1-e844-4b8a-bd5f-93dc2d768028",
   "metadata": {},
   "outputs": [],
   "source": [
    "import time\n",
    "import json"
   ]
  },
  {
   "cell_type": "code",
   "execution_count": 3,
   "id": "b06d2ee7-a6fb-4cb5-92cc-bee4cb85f996",
   "metadata": {},
   "outputs": [],
   "source": [
    "ENDPOINT_NAME = 'nomic-embed-text-v1-5-2024-03-27-16-26-36-endpoint'"
   ]
  },
  {
   "cell_type": "code",
   "execution_count": 4,
   "id": "d92059e3-d4b4-4445-9bca-54146e9f5335",
   "metadata": {},
   "outputs": [],
   "source": [
    "def invoke(data):\n",
    "    client = boto3.client(\"sagemaker-runtime\", region_name='us-east-2')\n",
    "    try:\n",
    "        response = client.invoke_endpoint(\n",
    "            EndpointName=ENDPOINT_NAME,\n",
    "            Body=data,\n",
    "            ContentType='application/json',\n",
    "        )\n",
    "    except:\n",
    "        print(\"Error in invoke endpoint\")\n",
    "        return 503, False\n",
    "    status_code = response['ResponseMetadata']['HTTPStatusCode']\n",
    "    got_embeddings = True\n",
    "    try:\n",
    "        resp = json.loads(response[\"Body\"].read().decode())\n",
    "        arr = np.array(resp[\"embeddings\"], dtype=np.float16)\n",
    "        assert \n",
    "    except Exception as e:\n",
    "        print(\"Did not get embeddings\")\n",
    "        print(e)\n",
    "        got_embeddings = False\n",
    "    return status_code, got_embeddings"
   ]
  },
  {
   "cell_type": "code",
   "execution_count": 5,
   "id": "02ac4860-cf34-4e87-bad6-b6e16cdd28e1",
   "metadata": {},
   "outputs": [],
   "source": [
    "def generate_sample(batch_size=32, num_tokens=2048):\n",
    "    # 'else' is one token word, all spaces count as one token\n",
    "    sentence = \" \".join([\"else\"] * (num_tokens - 1))\n",
    "    return [sentence] * batch_size"
   ]
  },
  {
   "cell_type": "code",
   "execution_count": 10,
   "id": "c55949e9-71d8-47ac-8232-507edb349b81",
   "metadata": {},
   "outputs": [
    {
     "name": "stderr",
     "output_type": "stream",
     "text": [
      "100%|████████████████████████████████████████████████████████████████████████████████████████████████████████████████████████████████████████████████| 3/3 [00:13<00:00,  4.57s/it]\n"
     ]
    }
   ],
   "source": [
    "num_tokens = 8192\n",
    "tok_results = []\n",
    "batch_size = [8, 16, 32]\n",
    "for batch in tqdm(batch_size):\n",
    "    sample = generate_sample(batch, num_tokens)\n",
    "    data = json.dumps({\"texts\": sample})\n",
    "    start = time.time()\n",
    "    status_code, got_embeddings = invoke(data)\n",
    "    end = time.time()\n",
    "    tok_results.append((batch, end - start, status_code, got_embeddings))"
   ]
  },
  {
   "cell_type": "code",
   "execution_count": 11,
   "id": "2ccd9f85-0bd7-414d-af56-67bf0f3a3aed",
   "metadata": {},
   "outputs": [
    {
     "data": {
      "text/plain": [
       "[(8, 2.2696588039398193, 200, True),\n",
       " (16, 3.8574917316436768, 200, True),\n",
       " (32, 7.5540032386779785, 200, True)]"
      ]
     },
     "execution_count": 11,
     "metadata": {},
     "output_type": "execute_result"
    }
   ],
   "source": [
    "tok_results"
   ]
  },
  {
   "cell_type": "code",
   "execution_count": null,
   "id": "2b19399f-05af-4523-a7dd-f76b862344d6",
   "metadata": {},
   "outputs": [],
   "source": []
  }
 ],
 "metadata": {
  "kernelspec": {
   "display_name": "atlas_env",
   "language": "python",
   "name": "atlas_env"
  },
  "language_info": {
   "codemirror_mode": {
    "name": "ipython",
    "version": 3
   },
   "file_extension": ".py",
   "mimetype": "text/x-python",
   "name": "python",
   "nbconvert_exporter": "python",
   "pygments_lexer": "ipython3",
   "version": "3.9.16"
  }
 },
 "nbformat": 4,
 "nbformat_minor": 5
}
